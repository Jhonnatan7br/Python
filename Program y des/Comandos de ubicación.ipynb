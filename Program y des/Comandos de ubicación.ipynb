{
 "cells": [
  {
   "cell_type": "markdown",
   "id": "9fea514a",
   "metadata": {},
   "source": [
    "# Comandos de Ubicación"
   ]
  },
  {
   "cell_type": "markdown",
   "id": "f344d062",
   "metadata": {},
   "source": [
    "# PACK"
   ]
  },
  {
   "cell_type": "code",
   "execution_count": 3,
   "id": "fa2ded4d",
   "metadata": {},
   "outputs": [],
   "source": [
    "import tkinter as tk"
   ]
  },
  {
   "cell_type": "code",
   "execution_count": 4,
   "id": "79a13697",
   "metadata": {},
   "outputs": [],
   "source": [
    "from tkinter import ttk"
   ]
  },
  {
   "cell_type": "markdown",
   "id": "87d0a25e",
   "metadata": {},
   "source": [
    "__Modo default__"
   ]
  },
  {
   "cell_type": "code",
   "execution_count": 5,
   "id": "03605498",
   "metadata": {},
   "outputs": [],
   "source": [
    "class App(tk.Tk):\n",
    "    def __init__(self):\n",
    "        super().__init__()\n",
    "        self.title('Pack Demo')\n",
    "        self.geometry(\"350x200\")\n",
    "        \n",
    "        # caja 1\n",
    "        self.caja1 = tk.Label(self, text=\"Caja 1\", bg=\"green\", fg=\"white\")\n",
    "        self.caja1.pack()\n",
    "\n",
    "        # caja 2\n",
    "        self.caja2 = tk.Label(self, text=\"Caja 2\", bg=\"red\", fg=\"white\")\n",
    "        self.caja2.pack()\n",
    "\n",
    "#Acción:\n",
    "app = App()\n",
    "app.mainloop()"
   ]
  },
  {
   "attachments": {
    "image.png": {
     "image/png": "[encoded data removed]"
    }
   },
   "cell_type": "markdown",
   "id": "d3865d41",
   "metadata": {},
   "source": [
    "![image.png](attachment:image.png)"
   ]
  },
  {
   "cell_type": "markdown",
   "id": "5eb7f0fe",
   "metadata": {},
   "source": [
    "__ipadx e ipady: Dan el tamaño del Widget__"
   ]
  },
  {
   "cell_type": "code",
   "execution_count": 6,
   "id": "36e66342",
   "metadata": {},
   "outputs": [],
   "source": [
    "class App(tk.Tk):\n",
    "    def __init__(self):\n",
    "        super().__init__()\n",
    "        self.title('Pack Demo')\n",
    "        self.geometry(\"350x200\")\n",
    "\n",
    "        # caja 1\n",
    "        self.caja1 = tk.Label(self, text=\"Caja 1\", bg=\"green\", fg=\"white\")\n",
    "        self.caja1.pack(ipadx=80, ipady=10)\n",
    "\n",
    "        # caja 2\n",
    "        self.caja2 = tk.Label(self, text=\"Caja 2\", bg=\"red\", fg=\"white\")\n",
    "        self.caja2.pack(ipadx=10, ipady=80)\n",
    "\n",
    "#Acción:\n",
    "app = App()\n",
    "app.mainloop()"
   ]
  },
  {
   "cell_type": "markdown",
   "id": "c84f76f3",
   "metadata": {},
   "source": [
    "__fill: Relleno del espacio disponible__"
   ]
  },
  {
   "cell_type": "markdown",
   "id": "09ad3202",
   "metadata": {},
   "source": [
    "Si bien el widget es de cierto tamaño, tiene un \"espacio disponible\" (así no lo use todo) que depende del tamaño de la ventana.\n",
    "\n",
    "La opción fill en el método pack de Tkinter permite especificar cómo expandir el widget en el contenedor.\n",
    "\n",
    "Hay cuatro opciones para el parámetro fill:\n",
    "\n",
    "> •tk.NONE (valor por defecto): el widget no se expande para llenar el espacio disponible.\n",
    "\n",
    "> •tk.X: el widget se expande horizontalmente para llenar el espacio disponible.\n",
    "\n",
    "> •tk.Y: el widget se expande verticalmente para llenar el espacio disponible.\n",
    "\n",
    "> •tk.BOTH: el widget se expande tanto horizontal como verticalmente para llenar el espacio disponible."
   ]
  },
  {
   "attachments": {
    "image.png": {
     "image/png": "[encoded data removed]"
    }
   },
   "cell_type": "markdown",
   "id": "f1cc8e65",
   "metadata": {},
   "source": [
    "![image.png](attachment:image.png)"
   ]
  },
  {
   "cell_type": "code",
   "execution_count": 26,
   "id": "fa150121",
   "metadata": {},
   "outputs": [],
   "source": [
    "class App(tk.Tk):\n",
    "    def __init__(self):\n",
    "        super().__init__()\n",
    "        self.title('Pack Demo')\n",
    "        self.geometry(\"350x200\")\n",
    "\n",
    "        # caja 1\n",
    "        self.caja1 = tk.Label(self, text=\"Caja 1\", bg=\"green\", fg=\"white\")\n",
    "        self.caja1.pack(ipady=10, fill=tk.BOTH)\n",
    "\n",
    "        # caja 2\n",
    "        self.caja2 = tk.Label(self, text=\"Caja 2\", bg=\"red\", fg=\"white\")\n",
    "        self.caja2.pack(ipady=80, fill=tk.BOTH)\n",
    "\n",
    "#Acción:\n",
    "app = App()\n",
    "app.mainloop()"
   ]
  },
  {
   "cell_type": "markdown",
   "id": "305b77cf",
   "metadata": {},
   "source": [
    "__expand: para aumentar el espacio disponible según el tamaño de la ventana o la presencia de otros widgets__"
   ]
  },
  {
   "cell_type": "markdown",
   "id": "8d9da9c6",
   "metadata": {},
   "source": [
    "Puede ser verdadero o falso"
   ]
  },
  {
   "cell_type": "code",
   "execution_count": 28,
   "id": "4f8eb54c",
   "metadata": {},
   "outputs": [],
   "source": [
    "#Expandir\n",
    "class App(tk.Tk):\n",
    "    def __init__(self):\n",
    "        super().__init__()\n",
    "        self.title('Pack Demo')\n",
    "        self.geometry(\"350x200\")\n",
    "\n",
    "        # caja 1\n",
    "        self.caja1 = tk.Label(self, text=\"Caja 1\", bg=\"green\", fg=\"white\")\n",
    "        self.caja1.pack(ipadx=20,ipady=20,expand=True)\n",
    "\n",
    "        # caja 2\n",
    "        self.caja2 = tk.Label(self, text=\"Caja 2\", bg=\"red\", fg=\"white\")\n",
    "        self.caja2.pack(ipadx=20, ipady=20,expand=False) #INTENTAR CON TRUE\n",
    "\n",
    "#Acción:\n",
    "app = App()\n",
    "app.mainloop()"
   ]
  },
  {
   "cell_type": "markdown",
   "id": "8751e367",
   "metadata": {},
   "source": [
    "Combinando fill y expand"
   ]
  },
  {
   "cell_type": "code",
   "execution_count": 29,
   "id": "460e191e",
   "metadata": {},
   "outputs": [],
   "source": [
    "#Expandir con FILL - BOTH\n",
    "class App(tk.Tk):\n",
    "    def __init__(self):\n",
    "        super().__init__()\n",
    "        self.title('Pack Demo')\n",
    "        self.geometry(\"350x200\")\n",
    "\n",
    "        # caja 1\n",
    "        self.caja1 = tk.Label(self, text=\"Caja 1\", bg=\"green\", fg=\"white\")\n",
    "        self.caja1.pack(ipadx=20, ipady=20, fill=tk.BOTH, expand=True)\n",
    "\n",
    "        # caja 2\n",
    "        self.caja2 = tk.Label(self, text=\"Caja 2\", bg=\"red\", fg=\"white\")\n",
    "        self.caja2.pack(ipadx=20, ipady=20)\n",
    "\n",
    "#Acción:\n",
    "app = App()\n",
    "app.mainloop()"
   ]
  },
  {
   "attachments": {
    "image.png": {
     "image/png": "[encoded data removed]"
    }
   },
   "cell_type": "markdown",
   "id": "ca197123",
   "metadata": {},
   "source": [
    "__anchor: ubica al widget dentro de su espacio disponible__\n",
    "![image.png](attachment:image.png)"
   ]
  },
  {
   "cell_type": "code",
   "execution_count": 31,
   "id": "23db568e",
   "metadata": {},
   "outputs": [],
   "source": [
    "class App(tk.Tk):\n",
    "    def __init__(self):\n",
    "        super().__init__()\n",
    "        self.title('Pack Demo')\n",
    "        self.geometry(\"350x200\")\n",
    "\n",
    "        # caja 1\n",
    "        self.caja1 = tk.Label(self, text=\"Caja 1\", bg=\"green\", fg=\"white\")\n",
    "        self.caja1.pack(ipadx=20, ipady=20, anchor=tk.E,  expand=True)\n",
    "\n",
    "        # caja 2\n",
    "        self.caja2 = tk.Label(self, text=\"Caja 2\", bg=\"red\", fg=\"white\")\n",
    "        self.caja2.pack(ipadx=20, ipady=20, anchor=tk.W, expand=True)\n",
    "\n",
    "#Acción:\n",
    "app = App()\n",
    "app.mainloop()"
   ]
  },
  {
   "cell_type": "markdown",
   "id": "b8b27467",
   "metadata": {},
   "source": [
    "__padx y pady: para poner distancia entre el borde del widget y el espacio disponible__"
   ]
  },
  {
   "cell_type": "markdown",
   "id": "16573f60",
   "metadata": {},
   "source": [
    "Puede ser verdadero o falso"
   ]
  },
  {
   "cell_type": "code",
   "execution_count": 54,
   "id": "25c1305c",
   "metadata": {},
   "outputs": [],
   "source": [
    "#COLOCANDO LÍMITES\n",
    "\n",
    "class App(tk.Tk):\n",
    "    def __init__(self):\n",
    "        super().__init__()\n",
    "        self.title('Pack Demo')\n",
    "        self.geometry(\"350x200\")\n",
    "\n",
    "        # caja 1\n",
    "        self.caja1 = tk.Label(self, text=\"Caja 1\", bg=\"green\", fg=\"white\")\n",
    "        self.caja1.pack(ipadx=20, ipady=20, padx=20, pady=20,\n",
    "          fill=tk.BOTH, expand=True)\n",
    "\n",
    "        # caja 2\n",
    "        self.caja2 = tk.Label(self, text=\"Caja 2\", bg=\"red\", fg=\"white\")\n",
    "        self.caja2.pack(ipadx=20, ipady=20, padx=20, pady=20,\n",
    "          fill=tk.BOTH, expand=True)\n",
    "\n",
    "#Acción:\n",
    "app = App()\n",
    "app.mainloop()"
   ]
  },
  {
   "cell_type": "markdown",
   "id": "dbf99bf4",
   "metadata": {},
   "source": [
    "__side: cambiando el sentido en que se ordenan los widgets__"
   ]
  },
  {
   "cell_type": "markdown",
   "id": "374703b8",
   "metadata": {},
   "source": [
    "Opciones posibles:\n",
    "\n",
    "•tk.TOP\n",
    "\n",
    "•tk.LEFT\n",
    "\n",
    "•tk.RIGHT\n",
    "\n",
    "•tk.BOTTOM"
   ]
  },
  {
   "cell_type": "code",
   "execution_count": 37,
   "id": "8562967e",
   "metadata": {},
   "outputs": [],
   "source": [
    "class App(tk.Tk):\n",
    "    def __init__(self):\n",
    "        super().__init__()\n",
    "        self.title('Pack Demo')\n",
    "        self.geometry(\"350x200\")\n",
    "\n",
    "        # caja 1\n",
    "        self.caja1 = tk.Label(self, text=\"Caja 1\", bg=\"green\", fg=\"white\")\n",
    "        self.caja1.pack(ipadx=20, ipady=20, fill=tk.BOTH, expand=True, side=tk.LEFT)\n",
    "\n",
    "        # caja 2\n",
    "        self.caja2 = tk.Label(self, text=\"Caja 2\", bg=\"red\", fg=\"white\")\n",
    "        self.caja2.pack(ipadx=20, ipady=20, fill=tk.BOTH, expand=True)\n",
    "\n",
    "#Acción:\n",
    "app = App()\n",
    "app.mainloop()"
   ]
  },
  {
   "cell_type": "markdown",
   "id": "ae6f588c",
   "metadata": {},
   "source": [
    "# GRID - La nemésis de PACK"
   ]
  },
  {
   "cell_type": "markdown",
   "id": "4d90ab79",
   "metadata": {},
   "source": [
    "El gestor de geometría de cuadrícula (grid) utiliza los conceptos de filas y columnas para organizar los widgets.\n",
    "\n",
    "A continuación se muestra una cuadrícula que consta de cuatro filas y tres columnas:"
   ]
  },
  {
   "attachments": {
    "image.png": {
     "image/png": "[encoded data removed]"
    }
   },
   "cell_type": "markdown",
   "id": "ebf622f1",
   "metadata": {},
   "source": [
    "![image.png](attachment:image.png)"
   ]
  },
  {
   "cell_type": "markdown",
   "id": "db2ccf6d",
   "metadata": {},
   "source": [
    "Cada fila y columna en la cuadrícula se identifica mediante un índice. Por defecto, la primera fila tiene un índice de cero, la segunda fila tiene un índice de uno, y así sucesivamente. De manera similar, las columnas en la cuadrícula tienen índices de cero, uno, dos, etc.\n",
    "\n",
    "La intersección de una fila y una columna se llama celda. Una celda es un área donde puedes colocar un widget. Una celda solo puede contener un widget. Si colocas dos widgets en una celda, estarán uno encima del otro.\n",
    "\n",
    "Así que para colocar varios widgets en una celda, debes utilizar un Frame o LabelFrame para envolver los widgets y colocar el Frame o LabelFrame en la celda.\n",
    "\n",
    "El ancho de una columna depende del ancho del widget que contiene. De manera similar, la altura de una fila depende de la altura de los widgets contenidos en la fila.\n",
    "\n",
    "Las filas y columnas pueden abarcar varias celdas. \n",
    "El siguiente ejemplo ilustra una cuadrícula que tiene la celda (1,1) que abarca dos columnas y la celda (0,2) que abarca dos filas:"
   ]
  },
  {
   "attachments": {
    "image.png": {
     "image/png": "[encoded data removed]"
    }
   },
   "cell_type": "markdown",
   "id": "f560abe8",
   "metadata": {},
   "source": [
    "![image.png](attachment:image.png)"
   ]
  },
  {
   "cell_type": "code",
   "execution_count": 72,
   "id": "3b813074",
   "metadata": {},
   "outputs": [],
   "source": [
    "class App(tk.Tk):\n",
    "    def __init__(self):\n",
    "        super().__init__()\n",
    "        \n",
    "        self.geometry(\"240x150\")\n",
    "        self.title('Ingresar')\n",
    "        self.resizable(0, 0)\n",
    "\n",
    "        # configure the grid\n",
    "        self.columnconfigure(0, weight=1)\n",
    "        self.columnconfigure(1, weight=3) #weight acá quiere decir que el ancho de la columna 1 será 3 veces la de la columa 0\n",
    "        #self.rowconfigure(0, weight=1)\n",
    "        #self.rowconfigure(1, weight=4)\n",
    "        \n",
    "        #Usuario\n",
    "        self.usuario_label = ttk.Label(self, text=\"Usuario:\")\n",
    "        self.usuario_label.grid(column=0, row=0, sticky=tk.W, padx=5, pady=5) #Padx y pady tienen el mismo uso en grid que en pack\n",
    "\n",
    "        self.usuario_entry = ttk.Entry(self)\n",
    "        self.usuario_entry.grid(column=1, row=0, sticky=tk.E, padx=5, pady=5) \n",
    "\n",
    "        #Contraseña\n",
    "        self.contraseña_label = ttk.Label(self, text=\"Contraseña:\")\n",
    "        self.contraseña_label.grid(column=0, row=1, sticky=tk.W, padx=5, pady=5)\n",
    "\n",
    "        self.contraseña_entry = ttk.Entry(self.master,  show=\"*\")\n",
    "        self.contraseña_entry.grid(column=1, row=1, sticky=tk.E, padx=5, pady=5, ipadx=10, ipady=10) #ipad funciona igual que en pack\n",
    "                        #¿por qué ipadx no está funcionando?\n",
    "        #Botón\n",
    "        self.ingresar_button = ttk.Button(self, text=\"Ingresar\")\n",
    "        self.ingresar_button.grid(column=1, row=3, sticky=tk.E, padx=5, pady=5) # y row2? puedo tener saltos de filas o columnas, se ajusta\n",
    "        \n",
    "        #Label con columspan\n",
    "        self.label2 = ttk.Label(self, text=\"Label con columspan para ocupar varias columnas\")\n",
    "        self.label2.grid(column=0, row=4, sticky=tk.W, padx=5, pady=5, columnspan=3)\n",
    "\n",
    "#Acción:\n",
    "app = App()\n",
    "app.mainloop()"
   ]
  },
  {
   "attachments": {
    "image.png": {
     "image/png": "[encoded data removed]"
    }
   },
   "cell_type": "markdown",
   "id": "489a3852",
   "metadata": {},
   "source": [
    "Sticky de forma similar al pack, ubica los widgets en el espacio disponible\n",
    "\n",
    "![image.png](attachment:image.png)"
   ]
  },
  {
   "attachments": {
    "image-2.png": {
     "image/png": "[encoded data removed]"
    },
    "image-3.png": {
     "image/png": "[encoded data removed]"
    },
    "image.png": {
     "image/png": "[encoded data removed]"
    }
   },
   "cell_type": "markdown",
   "id": "c5094fbd",
   "metadata": {},
   "source": [
    "![image.png](attachment:image.png)\n",
    "![image-2.png](attachment:image-2.png)\n",
    "![image-3.png](attachment:image-3.png)"
   ]
  }
 ],
 "metadata": {
  "kernelspec": {
   "display_name": "Python 3 (ipykernel)",
   "language": "python",
   "name": "python3"
  },
  "language_info": {
   "codemirror_mode": {
    "name": "ipython",
    "version": 3
   },
   "file_extension": ".py",
   "mimetype": "text/x-python",
   "name": "python",
   "nbconvert_exporter": "python",
   "pygments_lexer": "ipython3",
   "version": "3.9.7"
  }
 },
 "nbformat": 4,
 "nbformat_minor": 5
}
