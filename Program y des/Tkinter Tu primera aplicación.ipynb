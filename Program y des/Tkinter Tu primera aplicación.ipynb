{
 "cells": [
  {
   "cell_type": "markdown",
   "id": "20f0e75b",
   "metadata": {},
   "source": [
    "# Usando Tkinter"
   ]
  },
  {
   "cell_type": "code",
   "execution_count": 24,
   "id": "f5305b50",
   "metadata": {},
   "outputs": [],
   "source": [
    "import tkinter as tk #importamos un módulo y le ponemos un alias, \"tk\" minúscula\n",
    "\n",
    "#vamos a crear una clase que se llama MiApp que va heredar atributos y métodos de una clase \"Tk\" (la T en mayúscula) que está \n",
    "#en el modulo tkinter\n",
    "#La clase \"Tk\" es una clase de ventanas de programas\n",
    "\n",
    "class MiApp(tk.Tk):\n",
    "    def __init__(self):\n",
    "        super().__init__()  #Definimos que el constructor de MiApp debe ser igual al de la clase Tk\n",
    "\n",
    "####\n",
    "app = App() #Creamos el objeto\n",
    "app.mainloop() #Lo abrimos"
   ]
  },
  {
   "cell_type": "markdown",
   "id": "845dcc11",
   "metadata": {},
   "source": [
    "Los 6 comandos de arriba son el mínimo necesario para tener una ventana, siempre debe colocarlos"
   ]
  },
  {
   "cell_type": "markdown",
   "id": "f27e00b9",
   "metadata": {},
   "source": [
    "# Características de la ventana"
   ]
  },
  {
   "attachments": {
    "image.png": {
     "image/png": "[encoded data removed]"
    }
   },
   "cell_type": "markdown",
   "id": "af1d270c",
   "metadata": {},
   "source": [
    "Geometry:\n",
    "    ![image.png](attachment:image.png)"
   ]
  },
  {
   "cell_type": "code",
   "execution_count": 20,
   "id": "445324f9",
   "metadata": {},
   "outputs": [],
   "source": [
    "#Preparación\n",
    "class App(tk.Tk):\n",
    "  \n",
    "    #Front  \n",
    "  def __init__(self):\n",
    "    super().__init__()\n",
    "\n",
    "    # configure the root window\n",
    "    self.title('Mi increíble App OMG') #Título de la ventana\n",
    "    self.geometry('300x50') #Dimensiones\n",
    "    self.resizable(False,False) #Permisos para cambiar el tamaño\n",
    "    #self.attributes('-alpha',0.5) #transparencia\n",
    "    #self.iconbitmap() icono\n",
    "\n",
    "#Acción:\n",
    "app = App()\n",
    "app.mainloop()"
   ]
  },
  {
   "cell_type": "markdown",
   "id": "9aca486f",
   "metadata": {},
   "source": [
    "# Usando TTK, es una extensión más moderna de tkinter"
   ]
  },
  {
   "cell_type": "code",
   "execution_count": 2,
   "id": "5e24ac55",
   "metadata": {},
   "outputs": [],
   "source": [
    "#Los módulos que siempre al inicio de todo el script tendrás que importar\n",
    "import tkinter as tk\n",
    "from tkinter import ttk"
   ]
  },
  {
   "cell_type": "markdown",
   "id": "5ff623a3",
   "metadata": {},
   "source": [
    "# Primer widget: Label, el nuevo print"
   ]
  },
  {
   "cell_type": "code",
   "execution_count": null,
   "id": "b3aca298",
   "metadata": {},
   "outputs": [],
   "source": [
    "import tkinter as tk\n",
    "from tkinter import ttk\n",
    "\n",
    "class App(tk.Tk):\n",
    "    def __init__(self):\n",
    "        super().__init__()\n",
    "\n",
    "        self.geometry('300x200')\n",
    "        self.resizable(False, False)\n",
    "        self.title('Demo Widget Label')\n",
    "\n",
    "        # una etiqueta, este será tu primer widget o \"elemento de interfaz\"\n",
    "        #etiqueta = ttk.Label(container, **options)\n",
    "        self.etiqueta = ttk.Label(self, text='Esto es una etiqueta/o texto, es el nuevo \"print()\"') #el comando para ubicarlo\n",
    "        self.etiqueta.pack(ipadx=10, ipady=10) ##\n",
    "\n",
    "#Acción\n",
    "app = App()\n",
    "app.mainloop()"
   ]
  },
  {
   "cell_type": "code",
   "execution_count": 13,
   "id": "d894d0ba",
   "metadata": {},
   "outputs": [],
   "source": [
    "class App(tk.Tk):\n",
    "    def __init__(self):\n",
    "        super().__init__()\n",
    "\n",
    "        self.geometry('300x200')\n",
    "        self.resizable(False, False)\n",
    "        self.title('Label Widget Demo')\n",
    "\n",
    "        # label con una fuente y tamaño particular\n",
    "        self.label = ttk.Label(\n",
    "            self,\n",
    "            text='the Helvetica font',\n",
    "            font=(\"Helvetica\", 30))\n",
    "\n",
    "        self.label.pack(ipadx=10, ipady=10)\n",
    "        \n",
    "        \n",
    "#Acción\n",
    "app = App()\n",
    "app.mainloop()\n"
   ]
  },
  {
   "cell_type": "code",
   "execution_count": 4,
   "id": "304c2fcd",
   "metadata": {},
   "outputs": [],
   "source": [
    "class App(tk.Tk):\n",
    "    def __init__(self):\n",
    "        super().__init__()\n",
    "\n",
    "        # Establecer la geometría, la no redimensionabilidad y el título de la ventana\n",
    "        self.resizable(True, True)\n",
    "        self.title('Demostración del widget Label con imagen')\n",
    "\n",
    "        # Cargar la imagen y crear una etiqueta de imagen con ella\n",
    "        self.photo = tk.PhotoImage(file='imagenkarol.png')\n",
    "        self.image_label = ttk.Label(\n",
    "            self,\n",
    "            image=self.photo,\n",
    "            padding=5\n",
    "        )\n",
    "\n",
    "        # Empaquetar la etiqueta de imagen en la ventana principal\n",
    "        self.image_label.pack()\n",
    "\n",
    "# Crear una instancia de la aplicación y ejecutarla\n",
    "app = App()\n",
    "app.mainloop()"
   ]
  },
  {
   "cell_type": "code",
   "execution_count": 9,
   "id": "274378a3",
   "metadata": {},
   "outputs": [],
   "source": [
    "class App(tk.Tk):\n",
    "    def __init__(self):\n",
    "        super().__init__()\n",
    "\n",
    "        # Establecer la geometría, la no redimensionabilidad y el título de la ventana\n",
    "        self.resizable(True, True)\n",
    "        self.title('Demostración del widget Label con imagen')\n",
    "        \n",
    "        # label con una fuente y tamaño particular\n",
    "        self.label = ttk.Label(\n",
    "            self,\n",
    "            text='No importa si no te fue bien en el primer corte, tú puedes',\n",
    "            font=(\"Helvetica\", 15))\n",
    "\n",
    "        self.label.pack(ipadx=10, ipady=10)\n",
    "\n",
    "        # Cargar la imagen y crear una etiqueta de imagen con ella\n",
    "        self.photo = tk.PhotoImage(file='imagenkarol.png')\n",
    "        self.image_label = ttk.Label(\n",
    "            self,\n",
    "            image=self.photo,\n",
    "            padding=5\n",
    "        )\n",
    "\n",
    "        # Empaquetar la etiqueta de imagen en la ventana principal\n",
    "        self.image_label.pack()\n",
    "        \n",
    "\n",
    "\n",
    "# Crear una instancia de la aplicación y ejecutarla\n",
    "app = App()\n",
    "app.mainloop()"
   ]
  },
  {
   "cell_type": "markdown",
   "id": "6552d578",
   "metadata": {},
   "source": [
    "# Entry widget, el nuevo input"
   ]
  },
  {
   "cell_type": "code",
   "execution_count": 5,
   "id": "4f7892c9",
   "metadata": {},
   "outputs": [],
   "source": [
    "class App(tk.Tk):\n",
    "    def __init__(self):\n",
    "        super().__init__()\n",
    "\n",
    "        self.geometry('300x200')\n",
    "        self.resizable(False, False)\n",
    "        self.title('Demo Widget Label')\n",
    "\n",
    "        # una etiqueta, este será tu primer widget o \"elemento de interfaz\"\n",
    "        #etiqueta = ttk.Label(container, **options)\n",
    "        self.cajita = ttk.Entry(self)\n",
    "        self.cajita.pack()\n",
    "\n",
    "#Acción\n",
    "app = App()\n",
    "app.mainloop()"
   ]
  },
  {
   "cell_type": "code",
   "execution_count": 6,
   "id": "9844e1d0",
   "metadata": {},
   "outputs": [],
   "source": [
    "class App(tk.Tk):\n",
    "    def __init__(self):\n",
    "        super().__init__()\n",
    "\n",
    "        self.geometry('300x200')\n",
    "        self.resizable(False, False)\n",
    "        self.title('Demo Widget Label')\n",
    "\n",
    "        # una etiqueta, este será tu primer widget o \"elemento de interfaz\"\n",
    "        #etiqueta = ttk.Label(container, **options)\n",
    "        self.cajita = ttk.Entry(self, show='*')\n",
    "        self.cajita.pack()\n",
    "\n",
    "#Acción\n",
    "app = App()\n",
    "app.mainloop()"
   ]
  },
  {
   "cell_type": "markdown",
   "id": "8cff9de0",
   "metadata": {},
   "source": [
    "# Button widget, llamado a la acción"
   ]
  },
  {
   "cell_type": "code",
   "execution_count": 7,
   "id": "ef840c02",
   "metadata": {},
   "outputs": [],
   "source": [
    "class App(tk.Tk):\n",
    "    def __init__(self):\n",
    "        super().__init__()\n",
    "\n",
    "        self.geometry('300x200')\n",
    "        self.resizable(False, False)\n",
    "        self.title('Demo Widget Label')\n",
    "\n",
    "        # una etiqueta, este será tu primer widget o \"elemento de interfaz\"\n",
    "        #etiqueta = ttk.Label(container, **options)\n",
    "        self.mibotonsito = ttk.Button(self, text=\"Presióname\")\n",
    "        self.mibotonsito.pack()\n",
    "\n",
    "#Acción\n",
    "app = App()\n",
    "app.mainloop()"
   ]
  },
  {
   "cell_type": "markdown",
   "id": "d37d8be8",
   "metadata": {},
   "source": [
    "¿cómo hacer que algo pase después de oprimir el buttón?"
   ]
  },
  {
   "cell_type": "code",
   "execution_count": 2,
   "id": "6c42ec5b",
   "metadata": {},
   "outputs": [
    {
     "ename": "SyntaxError",
     "evalue": "EOF while scanning triple-quoted string literal (Temp/ipykernel_27400/3231286147.py, line 10)",
     "output_type": "error",
     "traceback": [
      "\u001b[1;36m  File \u001b[1;32m\"C:\\Users\\USUARIO\\AppData\\Local\\Temp/ipykernel_27400/3231286147.py\"\u001b[1;36m, line \u001b[1;32m10\u001b[0m\n\u001b[1;33m    )\u001b[0m\n\u001b[1;37m     \n^\u001b[0m\n\u001b[1;31mSyntaxError\u001b[0m\u001b[1;31m:\u001b[0m EOF while scanning triple-quoted string literal\n"
     ]
    }
   ],
   "source": [
    "'''\n",
    "def función():\n",
    "    # los comandos que quieras\n",
    "\n",
    "\n",
    "ttk.Button(\n",
    "   self, \n",
    "   text=\"Espíchame\", \n",
    "   command=funcion()\n",
    ")\n"
   ]
  },
  {
   "cell_type": "code",
   "execution_count": 8,
   "id": "b5277c2b",
   "metadata": {},
   "outputs": [],
   "source": [
    "from tkinter.messagebox import showinfo\n",
    "\n",
    "class App(tk.Tk):\n",
    "    def __init__(self):\n",
    "        super().__init__()\n",
    "        \n",
    "        #ventana\n",
    "        self.geometry('300x200')\n",
    "        self.resizable(False, False)\n",
    "        self.title('Image Button Demo')\n",
    "        \n",
    "        #botón\n",
    "        self.icono = tk.PhotoImage(file='descargar.png')#cargo la imagen\n",
    "        \n",
    "        \n",
    "        boton_descarga = ttk.Button(   #creo el botón\n",
    "        self,\n",
    "        image=self.icono,\n",
    "        command=self.alcliquear_descarga) ###este argumento command es la clave de claves\n",
    "\n",
    "        boton_descarga.pack(\n",
    "        ipadx=5,\n",
    "        ipady=5,\n",
    "        expand=True)\n",
    "\n",
    "    #función al cliquear el botón    \n",
    "    def alcliquear_descarga(self):\n",
    "        showinfo(\n",
    "            title='Información muy informativa',\n",
    "            message='Has espichado el botón de descarga')\n",
    "\n",
    "#Acción\n",
    "app = App()\n",
    "app.mainloop()"
   ]
  },
  {
   "cell_type": "code",
   "execution_count": 8,
   "id": "d6f674f8",
   "metadata": {},
   "outputs": [],
   "source": [
    "from tkinter.messagebox import showinfo\n",
    "\n",
    "class App(tk.Tk):\n",
    "    def __init__(self):\n",
    "        super().__init__()\n",
    "        \n",
    "        #ventana\n",
    "        self.geometry('300x200')\n",
    "        self.resizable(False, False)\n",
    "        self.title('Image Button Demo')\n",
    "        \n",
    "        #botón\n",
    "        self.icono = tk.PhotoImage(file='descargar.png')\n",
    "        boton_descarga = ttk.Button(\n",
    "        self,\n",
    "        image=self.icono,\n",
    "        text= \"Descargar\", #mensaje del botón\n",
    "        compound=tk.LEFT, #da la ubicación del texto respecto al icono\n",
    "        command=self.alcliquear_descarga) ###esta línea command es la clave de claves\n",
    "\n",
    "        boton_descarga.pack(\n",
    "        ipadx=5,\n",
    "        ipady=5,\n",
    "        expand=True)\n",
    "\n",
    "    #función al cliquear el botón    \n",
    "    def alcliquear_descarga(self):\n",
    "        showinfo(\n",
    "            title='Información muy informativa',\n",
    "            message='Has espichado el botón de descarga')\n",
    "\n",
    "#Acción\n",
    "app = App()\n",
    "app.mainloop()"
   ]
  },
  {
   "cell_type": "code",
   "execution_count": null,
   "id": "96684f2b",
   "metadata": {},
   "outputs": [],
   "source": [
    "root = tk.Tk()\n",
    "\n",
    "label = ttk.Label(root)\n",
    "label['text'] = 'Hi, there'\n",
    "label.pack()\n",
    "\n",
    "root.mainloop()"
   ]
  },
  {
   "cell_type": "code",
   "execution_count": 2,
   "id": "694c6a56",
   "metadata": {},
   "outputs": [
    {
     "name": "stdout",
     "output_type": "stream",
     "text": [
      "{'background': ('background', 'frameColor', 'FrameColor', '', ''), 'foreground': ('foreground', 'textColor', 'TextColor', '', ''), 'font': ('font', 'font', 'Font', '', ''), 'borderwidth': ('borderwidth', 'borderWidth', 'BorderWidth', '', ''), 'relief': ('relief', 'relief', 'Relief', '', ''), 'anchor': ('anchor', 'anchor', 'Anchor', '', ''), 'justify': ('justify', 'justify', 'Justify', '', ''), 'wraplength': ('wraplength', 'wrapLength', 'WrapLength', '', ''), 'takefocus': ('takefocus', 'takeFocus', 'TakeFocus', '', ''), 'text': ('text', 'text', 'Text', '', 'Hola mundo!'), 'textvariable': ('textvariable', 'textVariable', 'Variable', '', ''), 'underline': ('underline', 'underline', 'Underline', -1, -1), 'width': ('width', 'width', 'Width', '', ''), 'image': ('image', 'image', 'Image', '', ''), 'compound': ('compound', 'compound', 'Compound', <string object: 'none'>, <string object: 'none'>), 'padding': ('padding', 'padding', 'Pad', '', ''), 'state': ('state', 'state', 'State', <string object: 'normal'>, <string object: 'normal'>), 'cursor': ('cursor', 'cursor', 'Cursor', '', ''), 'style': ('style', 'style', 'Style', '', ''), 'class': ('class', '', '', '', '')}\n"
     ]
    }
   ],
   "source": [
    "root = tk.Tk()\n",
    "label = ttk.Label(root, text=\"Hola mundo!\")\n",
    "options = label.configure()\n",
    "print(options)"
   ]
  }
 ],
 "metadata": {
  "kernelspec": {
   "display_name": "Python 3 (ipykernel)",
   "language": "python",
   "name": "python3"
  },
  "language_info": {
   "codemirror_mode": {
    "name": "ipython",
    "version": 3
   },
   "file_extension": ".py",
   "mimetype": "text/x-python",
   "name": "python",
   "nbconvert_exporter": "python",
   "pygments_lexer": "ipython3",
   "version": "3.9.12"
  }
 },
 "nbformat": 4,
 "nbformat_minor": 5
}
